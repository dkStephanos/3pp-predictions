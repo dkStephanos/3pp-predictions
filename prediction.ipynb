{
 "cells": [
  {
   "cell_type": "code",
   "execution_count": 1,
   "metadata": {},
   "outputs": [],
   "source": [
    "import pandas as pd\n",
    "\n",
    "# Load the dataset\n",
    "data_path = './data/shooting_stats_extended.csv'\n",
    "df = pd.read_csv(data_path)\n",
    "\n",
    "# Specify the target column\n",
    "target_col = 'three_pct_season'"
   ]
  },
  {
   "cell_type": "code",
   "execution_count": 2,
   "metadata": {},
   "outputs": [
    {
     "ename": "TypeError",
     "evalue": "DecisionTree.__init__() missing 1 required positional argument: 'criterion'",
     "output_type": "error",
     "traceback": [
      "\u001b[1;31m---------------------------------------------------------------------------\u001b[0m",
      "\u001b[1;31mTypeError\u001b[0m                                 Traceback (most recent call last)",
      "\u001b[1;32mc:\\Users\\dkste\\Dev\\3pp-predictions\\prediction.ipynb Cell 2\u001b[0m line \u001b[0;36m4\n\u001b[0;32m      <a href='vscode-notebook-cell:/c%3A/Users/dkste/Dev/3pp-predictions/prediction.ipynb#W0sZmlsZQ%3D%3D?line=0'>1</a>\u001b[0m \u001b[39mfrom\u001b[39;00m \u001b[39mcode\u001b[39;00m\u001b[39m.\u001b[39;00m\u001b[39mprediction\u001b[39;00m\u001b[39m.\u001b[39;00m\u001b[39mML\u001b[39;00m\u001b[39m.\u001b[39;00m\u001b[39mDecisionTree\u001b[39;00m \u001b[39mimport\u001b[39;00m DecisionTree\n\u001b[0;32m      <a href='vscode-notebook-cell:/c%3A/Users/dkste/Dev/3pp-predictions/prediction.ipynb#W0sZmlsZQ%3D%3D?line=2'>3</a>\u001b[0m \u001b[39m# Instantiate and train the Decision Tree model\u001b[39;00m\n\u001b[1;32m----> <a href='vscode-notebook-cell:/c%3A/Users/dkste/Dev/3pp-predictions/prediction.ipynb#W0sZmlsZQ%3D%3D?line=3'>4</a>\u001b[0m decision_tree_model \u001b[39m=\u001b[39m DecisionTree()\n\u001b[0;32m      <a href='vscode-notebook-cell:/c%3A/Users/dkste/Dev/3pp-predictions/prediction.ipynb#W0sZmlsZQ%3D%3D?line=4'>5</a>\u001b[0m decision_tree_model\u001b[39m.\u001b[39mset_data(df, target_col)\n\u001b[0;32m      <a href='vscode-notebook-cell:/c%3A/Users/dkste/Dev/3pp-predictions/prediction.ipynb#W0sZmlsZQ%3D%3D?line=5'>6</a>\u001b[0m decision_tree_results \u001b[39m=\u001b[39m decision_tree_model\u001b[39m.\u001b[39mget_avg_metrics_for_n_iterations(\u001b[39m5\u001b[39m, \u001b[39m0.3\u001b[39m)\n",
      "\u001b[1;31mTypeError\u001b[0m: DecisionTree.__init__() missing 1 required positional argument: 'criterion'"
     ]
    }
   ],
   "source": [
    "from code.prediction.ML.DecisionTree import DecisionTree\n",
    "\n",
    "# Instantiate and train the Decision Tree model\n",
    "decision_tree_model = DecisionTree(target_col)\n",
    "decision_tree_model.set_data(df, target_col)\n",
    "decision_tree_results = decision_tree_model.get_avg_metrics_for_n_iterations(5, 0.3)\n",
    "print(\"Decision Tree Results:\", decision_tree_results)\n",
    "\n",
    "# Generate learning curve\n",
    "decision_tree_model.get_learning_curve()\n",
    "\n",
    "# Generate validation curve (specify the parameter and its range)\n",
    "decision_tree_model.get_validation_curve(param_name=\"max_depth\", param_range=[1, 5, 10, 15, 20])\n"
   ]
  },
  {
   "cell_type": "code",
   "execution_count": null,
   "metadata": {},
   "outputs": [],
   "source": [
    "from code.prediction.ML.LinearRegression import LinearRegression\n",
    "\n",
    "# Instantiate and train the Linear Regression model\n",
    "linear_regression_model = LinearRegression()\n",
    "linear_regression_model.set_data(df, target_col)\n",
    "linear_regression_results = linear_regression_model.get_avg_metrics_for_n_iterations(5, 0.3)\n",
    "print(\"Linear Regression Results:\", linear_regression_results)\n",
    "\n",
    "# Generate learning curve\n",
    "linear_regression_model.get_learning_curve()\n"
   ]
  },
  {
   "cell_type": "code",
   "execution_count": null,
   "metadata": {},
   "outputs": [],
   "source": [
    "from code.prediction.ML.SVM import SVM\n",
    "\n",
    "# Instantiate and train the SVM model\n",
    "svm_model = SVM()\n",
    "svm_model.set_data(df, target_col)\n",
    "svm_results = svm_model.get_avg_metrics_for_n_iterations(5, 0.3)\n",
    "print(\"SVM Results:\", svm_results)\n",
    "\n",
    "# Generate learning curve\n",
    "svm_model.get_learning_curve()\n",
    "\n",
    "# Generate validation curve (specify the parameter and its range)\n",
    "svm_model.get_validation_curve(param_name=\"C\", param_range=[0.1, 1, 10, 100])"
   ]
  }
 ],
 "metadata": {
  "kernelspec": {
   "display_name": "Python 3",
   "language": "python",
   "name": "python3"
  },
  "language_info": {
   "codemirror_mode": {
    "name": "ipython",
    "version": 3
   },
   "file_extension": ".py",
   "mimetype": "text/x-python",
   "name": "python",
   "nbconvert_exporter": "python",
   "pygments_lexer": "ipython3",
   "version": "3.11.4"
  }
 },
 "nbformat": 4,
 "nbformat_minor": 2
}
